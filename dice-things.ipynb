{
 "cells": [
  {
   "cell_type": "code",
   "execution_count": 1,
   "metadata": {},
   "outputs": [],
   "source": [
    "import secrets\n",
    "from functools import partial\n",
    "\n",
    "sr = secrets.SystemRandom()"
   ]
  },
  {
   "cell_type": "code",
   "execution_count": 2,
   "metadata": {},
   "outputs": [],
   "source": [
    "LOW  = 0\n",
    "HIGH = 1\n",
    "\n",
    "def roll(a, b, n=1, *f):\n",
    "    rolls = tuple(sr.randint(a,b) for i in range(n))\n",
    "    if type(f) is tuple:\n",
    "        for fn in f:\n",
    "            rolls = fn(rolls)\n",
    "    return tuple(rolls)\n",
    "\n",
    "d6 = partial(roll, 1, 6)\n",
    "d9 = partial(roll, 0, 9)\n",
    "d20 = partial(roll, 1, 20)\n",
    "\n",
    "def under(n):\n",
    "    def fn(n, r):\n",
    "        return sorted(tuple(filter(lambda x: x < n, r)))\n",
    "    return partial(fn, n)\n",
    "\n",
    "def over(n):\n",
    "    def fn(n, r):\n",
    "        return sorted(tuple(filter(lambda x: x > n, r)))\n",
    "    return partial(fn, n)\n",
    "\n",
    "def under_eq(n):\n",
    "    def fn(n, r):\n",
    "        return sorted(tuple(filter(lambda x: x <= n, r)))\n",
    "    return partial(fn, n)\n",
    "\n",
    "def over_eq(n):\n",
    "    def fn(n, r):\n",
    "        return sorted(tuple(filter(lambda x: x >= n, r)))\n",
    "    return partial(fn, n)\n",
    "\n",
    "def keep(n, r=HIGH):\n",
    "    def fn(n, r, rolls):\n",
    "        if r == HIGH:\n",
    "            return sorted(rolls)[-n:]\n",
    "        elif r == LOW:\n",
    "            return sorted(rolls)[:n]\n",
    "            \n",
    "    return partial(fn, n, r)\n",
    "\n",
    "def drop(n, r=LOW):\n",
    "    def fn(n, r, rolls):\n",
    "        if r == HIGH:\n",
    "            return sorted(rolls)[:-n]\n",
    "        elif r == LOW:\n",
    "            return sorted(rolls)[n:]\n",
    "    return partial(fn, n, r)"
   ]
  },
  {
   "cell_type": "code",
   "execution_count": 3,
   "metadata": {},
   "outputs": [
    {
     "data": {
      "text/plain": [
       "(3, 4)"
      ]
     },
     "execution_count": 3,
     "metadata": {},
     "output_type": "execute_result"
    }
   ],
   "source": [
    "d9(5, under_eq(5), over_eq(2))"
   ]
  },
  {
   "cell_type": "code",
   "execution_count": 4,
   "metadata": {},
   "outputs": [
    {
     "data": {
      "text/plain": [
       "(13,)"
      ]
     },
     "execution_count": 4,
     "metadata": {},
     "output_type": "execute_result"
    }
   ],
   "source": [
    "d20(2, keep(1), over_eq(10))"
   ]
  },
  {
   "cell_type": "code",
   "execution_count": 5,
   "metadata": {},
   "outputs": [
    {
     "data": {
      "text/plain": [
       "15"
      ]
     },
     "execution_count": 5,
     "metadata": {},
     "output_type": "execute_result"
    }
   ],
   "source": [
    "sum(d6(4, keep(3)))"
   ]
  },
  {
   "cell_type": "code",
   "execution_count": 6,
   "metadata": {},
   "outputs": [
    {
     "data": {
      "text/plain": [
       "(3,)"
      ]
     },
     "execution_count": 6,
     "metadata": {},
     "output_type": "execute_result"
    }
   ],
   "source": [
    "d6()"
   ]
  },
  {
   "cell_type": "code",
   "execution_count": 10,
   "metadata": {
    "tags": []
   },
   "outputs": [
    {
     "data": {
      "text/plain": [
       "(5, 5, 6)"
      ]
     },
     "execution_count": 10,
     "metadata": {},
     "output_type": "execute_result"
    }
   ],
   "source": [
    "d6(12, keep(3, HIGH))"
   ]
  },
  {
   "cell_type": "code",
   "execution_count": 7,
   "metadata": {},
   "outputs": [
    {
     "data": {
      "text/plain": [
       "0.4949"
      ]
     },
     "execution_count": 7,
     "metadata": {},
     "output_type": "execute_result"
    }
   ],
   "source": [
    "n = 10000\n",
    "results = []\n",
    "for _ in range(n):\n",
    "    r = (len(d6(2, over_eq(4))) - len(d6(1, over_eq(4)))) > 0\n",
    "    results.append(r)\n",
    "\n",
    "sum(results)/n"
   ]
  }
 ],
 "metadata": {
  "kernelspec": {
   "display_name": "Python 3 (ipykernel)",
   "language": "python",
   "name": "python3"
  },
  "language_info": {
   "codemirror_mode": {
    "name": "ipython",
    "version": 3
   },
   "file_extension": ".py",
   "mimetype": "text/x-python",
   "name": "python",
   "nbconvert_exporter": "python",
   "pygments_lexer": "ipython3",
   "version": "3.11.3"
  }
 },
 "nbformat": 4,
 "nbformat_minor": 4
}
