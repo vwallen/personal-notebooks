{
 "cells": [
  {
   "cell_type": "code",
   "execution_count": 190,
   "id": "edca2c5e-c2ef-457c-85dc-8ad9eab09c4f",
   "metadata": {
    "tags": []
   },
   "outputs": [],
   "source": [
    "from itertools import *\n",
    "from functools import partial\n",
    "from collections import Counter"
   ]
  },
  {
   "cell_type": "code",
   "execution_count": 59,
   "id": "f1a3cf85-441f-4f9d-892d-7146f3ef9b86",
   "metadata": {
    "tags": []
   },
   "outputs": [],
   "source": [
    "d6 = (('d6',1),('d6',2),('d6',3),('d6',4),('d6',5),('d6',6))\n",
    "d9 = (('d9',0),('d9',1),('d9',2),('d9',3),('d9',4),('d9',5),('d9',6),('d9',7),('d9',8),('d9',9))"
   ]
  },
  {
   "cell_type": "code",
   "execution_count": 60,
   "id": "5302a694-2684-4bec-afa5-0b110517b883",
   "metadata": {
    "tags": []
   },
   "outputs": [],
   "source": [
    "d6 = (1,2,3,4,5,6)\n",
    "d9 = (0,1,2,3,4,5,6,7,8,9)"
   ]
  },
  {
   "cell_type": "code",
   "execution_count": 220,
   "id": "86d2096c-4d30-4f3a-8f67-2dd3e6d876ef",
   "metadata": {
    "tags": []
   },
   "outputs": [],
   "source": [
    "def rolls(skill=1, obstacle=1, bonus=0):\n",
    "    return tuple(product(\n",
    "        product(d9, repeat=skill),\n",
    "        product(d6, repeat=obstacle),\n",
    "        product(d9, repeat=bonus)\n",
    "    ))"
   ]
  },
  {
   "cell_type": "code",
   "execution_count": 221,
   "id": "9c9b4ec4-beb2-495e-847a-2b5ba4dd3e6f",
   "metadata": {
    "tags": []
   },
   "outputs": [],
   "source": [
    "def under(n):\n",
    "    def fn(n, r):\n",
    "        return sorted(tuple(filter(lambda x: x < n, r)))\n",
    "    return partial(fn, n)\n",
    "\n",
    "def over(n):\n",
    "    def fn(n, r):\n",
    "        return sorted(tuple(filter(lambda x: x > n, r)))\n",
    "    return partial(fn, n)\n",
    "\n",
    "def under_eq(n):\n",
    "    def fn(n, r):\n",
    "        return sorted(tuple(filter(lambda x: x <= n, r)))\n",
    "    return partial(fn, n)\n",
    "\n",
    "def over_eq(n):\n",
    "    def fn(n, r):\n",
    "        return sorted(tuple(filter(lambda x: x >= n, r)))\n",
    "    return partial(fn, n)"
   ]
  },
  {
   "cell_type": "code",
   "execution_count": 321,
   "id": "4043b6a0-b8bc-48cd-8883-c3fed46385ee",
   "metadata": {
    "tags": []
   },
   "outputs": [],
   "source": [
    "def check_result(res, target=5):\n",
    "    hits = Counter(under_eq(target)(res[0]))\n",
    "    bonus = Counter(under_eq(target)(res[2]))\n",
    "    blocks = Counter()\n",
    "    for n in res[1]:\n",
    "        if n in hits.keys():\n",
    "            blocks[n] += 1\n",
    "            hits[n] -= 1\n",
    "            if hits[n] == 0:\n",
    "                del hits[n]\n",
    "        elif n in bonus.keys():\n",
    "            blocks[n] += 1\n",
    "            bonus[n] -= 1\n",
    "            if bonus[n] == 0:\n",
    "                del bonus[n]\n",
    "    return tuple(hits.keys()), tuple(blocks.keys()), tuple(bonus.keys())\n",
    "\n",
    "def calc_result(res, target=5):\n",
    "    hits, blocks, bonuses = check_result(res, target)\n",
    "    return len(hits), len(bonuses)"
   ]
  },
  {
   "cell_type": "code",
   "execution_count": 353,
   "id": "51ee2d25-ca13-4f18-b20f-3939fe8ae987",
   "metadata": {
    "tags": []
   },
   "outputs": [
    {
     "name": "stdout",
     "output_type": "stream",
     "text": [
      "(1, 0):0.386\n",
      "(2, 0):0.0373\n",
      "(0, 0):0.577\n"
     ]
    },
    {
     "data": {
      "text/plain": [
       "'0.423'"
      ]
     },
     "execution_count": 353,
     "metadata": {},
     "output_type": "execute_result"
    }
   ],
   "source": [
    "die_rolls = rolls(2,6,0)\n",
    "all_results = Counter([calc_result(x,4) for x in die_rolls])\n",
    "\n",
    "total = sum(all_results.values())\n",
    "for k,v in all_results.items():\n",
    "    print(f'{k}:{v/total:.3}')\n",
    "    \n",
    "f'{1.0 - all_results[(0,0)]/total:.3}'"
   ]
  },
  {
   "cell_type": "code",
   "execution_count": null,
   "id": "9c712c99-fe61-44e7-895f-14506c6e7d07",
   "metadata": {},
   "outputs": [],
   "source": []
  }
 ],
 "metadata": {
  "kernelspec": {
   "display_name": "Python 3 (ipykernel)",
   "language": "python",
   "name": "python3"
  },
  "language_info": {
   "codemirror_mode": {
    "name": "ipython",
    "version": 3
   },
   "file_extension": ".py",
   "mimetype": "text/x-python",
   "name": "python",
   "nbconvert_exporter": "python",
   "pygments_lexer": "ipython3",
   "version": "3.11.3"
  }
 },
 "nbformat": 4,
 "nbformat_minor": 5
}
